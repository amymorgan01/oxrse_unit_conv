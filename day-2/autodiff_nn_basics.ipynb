{
  "cells": [
    {
      "cell_type": "markdown",
      "metadata": {
        "id": "4eBDX_h8n_y4"
      },
      "source": [
        "# Pytorch and autodiff basics\n",
        "\n",
        "Adapted from: http://pytorch.org/tutorials/beginner/deep_learning_60min_blitz.html\n",
        "and CSCS-ICS-DADSi Summer School: Accelerating Data Science with HPC, September 4 - 6, 2017, Swiss National Supercomputing Centre"
      ]
    },
    {
      "cell_type": "markdown",
      "metadata": {
        "id": "Kdk1SVKGn_y5"
      },
      "source": [
        "This notebook shows how to use PyTorch's (http://pytorch.org/) autodifferentiation, and also trains a simple classifier on the MNIST dataset."
      ]
    },
    {
      "cell_type": "markdown",
      "metadata": {
        "id": "Bc6ZulOHn_y5"
      },
      "source": [
        "## Part 1: Tensors"
      ]
    },
    {
      "cell_type": "markdown",
      "metadata": {
        "id": "1xoP-qHxn_y5"
      },
      "source": [
        "We start by importing `torch`."
      ]
    },
    {
      "cell_type": "code",
      "execution_count": 1,
      "metadata": {
        "id": "tvoaBMrln_y5"
      },
      "outputs": [],
      "source": [
        "import torch"
      ]
    },
    {
      "cell_type": "markdown",
      "metadata": {
        "id": "_p0mxY8en_y6"
      },
      "source": [
        "Tensors, or multi-dimensional arrays, are the basic unit in PyTorch. Let's create a 5x3 matrix as a 2-dimensional Tensor. This will default to a `FloatTensor`, a tensor of single-precision (32-bits) floating point numbers. The tensor will be initialized with random numbers."
      ]
    },
    {
      "cell_type": "code",
      "execution_count": 2,
      "metadata": {
        "id": "tgPic84Fn_y6",
        "outputId": "8f0b4674-b8ea-42c4-de33-55e3353151e4",
        "colab": {
          "base_uri": "https://localhost:8080/"
        }
      },
      "outputs": [
        {
          "output_type": "stream",
          "name": "stdout",
          "text": [
            "tensor([[[2.1715e-18, 8.3388e-10, 6.5258e-10],\n",
            "         [2.1122e+20, 6.5714e-07, 6.7359e+22],\n",
            "         [1.0741e-05, 5.4716e+22, 6.4470e-10],\n",
            "         [1.0632e-05, 2.1707e-18, 1.6678e+19],\n",
            "         [7.0976e+22, 2.1715e-18, 4.2330e+21]],\n",
            "\n",
            "        [[1.6534e+19, 1.1625e+27, 1.4580e-19],\n",
            "         [7.1856e+22, 4.3605e+27, 1.5766e-19],\n",
            "         [7.1856e+22, 4.3605e+27, 1.4580e-19],\n",
            "         [1.8179e+31, 1.8524e+28, 2.1715e-18],\n",
            "         [8.3388e-10, 6.5258e-10, 2.1122e+20]],\n",
            "\n",
            "        [[6.5714e-07, 6.7359e+22, 1.0741e-05],\n",
            "         [5.4716e+22, 6.4470e-10, 1.4580e-19],\n",
            "         [7.1429e+31, 1.5766e-19, 1.0256e-08],\n",
            "         [2.5783e-09, 3.0613e+12, 1.7341e-07],\n",
            "         [1.0432e-08, 6.7019e-10, 1.3033e+16]]])\n"
          ]
        }
      ],
      "source": [
        "x = torch.Tensor(3,5,3)\n",
        "print(x)"
      ]
    },
    {
      "cell_type": "markdown",
      "metadata": {
        "id": "3KqkFMV0n_y6"
      },
      "source": [
        "### Slicing\n",
        "\n",
        "It is common to have higher-dimensional tensors, to hold all aspects of your data together, such as a 3x200x200 tensor holding the R,G,B channels of an image of 200x200 pixels, or a 100x3x200x200 tensor to hold a batch of 100 such images.\n",
        "\n",
        "We use slicing operations to view specific subtensors of such a tensor. Note that PyTorch uses zero-based indexing and row-major memory ordering."
      ]
    },
    {
      "cell_type": "code",
      "execution_count": 3,
      "metadata": {
        "id": "7fahd_Ubn_y6",
        "outputId": "bcf15cca-4a77-4482-abb5-bdecc31a328d",
        "colab": {
          "base_uri": "https://localhost:8080/"
        }
      },
      "outputs": [
        {
          "output_type": "stream",
          "name": "stdout",
          "text": [
            "torch.Size([100, 3, 200, 200])\n",
            "torch.Size([200, 200])\n"
          ]
        }
      ],
      "source": [
        "# 100 images of 3 channels of size 200x200\n",
        "x = torch.Tensor(100,3,200,200)\n",
        "print(x.size())\n",
        "\n",
        "# Second channel of the first image\n",
        "y = x[0,1]\n",
        "print(y.size())"
      ]
    },
    {
      "cell_type": "markdown",
      "metadata": {
        "id": "5eCgtQPnn_y6"
      },
      "source": [
        "### Numpy conversion\n",
        "\n",
        "You might have noticed that Tensors are very similar to Numpy's ndarrays. In fact you can easily convert between ndarrays and Tensors."
      ]
    },
    {
      "cell_type": "code",
      "execution_count": 4,
      "metadata": {
        "id": "v779FIJIn_y6",
        "outputId": "c9826c61-5720-454f-aba0-70470229431e",
        "colab": {
          "base_uri": "https://localhost:8080/"
        }
      },
      "outputs": [
        {
          "output_type": "stream",
          "name": "stdout",
          "text": [
            "(100, 3, 200, 200)\n",
            "torch.Size([100, 3, 200, 200])\n"
          ]
        }
      ],
      "source": [
        "x_np = x.numpy()\n",
        "print(x_np.shape)\n",
        "\n",
        "x = torch.from_numpy(x_np)\n",
        "print(x.size())"
      ]
    },
    {
      "cell_type": "markdown",
      "metadata": {
        "id": "A_ksNUeyn_y6"
      },
      "source": [
        "### A note on GPU usage\n",
        "\n",
        "PyTorch is frequently used with a CUDA backend on a GPU. One would convert between tensors and CUDA tensors by simply calling\n",
        "\n",
        "`x.cuda()`\n",
        "\n",
        "`x.cpu()`\n",
        "\n",
        "which transfer data to and from a GPU memory.\n",
        "\n",
        "You can check if CUDA is available by using:"
      ]
    },
    {
      "cell_type": "code",
      "execution_count": 5,
      "metadata": {
        "id": "0D_E6N2vn_y6",
        "outputId": "99023f2e-b49f-4ec6-a11a-37aa2d1c5efa",
        "colab": {
          "base_uri": "https://localhost:8080/"
        }
      },
      "outputs": [
        {
          "output_type": "execute_result",
          "data": {
            "text/plain": [
              "False"
            ]
          },
          "metadata": {},
          "execution_count": 5
        }
      ],
      "source": [
        "torch.cuda.is_available()"
      ]
    },
    {
      "cell_type": "markdown",
      "metadata": {
        "collapsed": true,
        "id": "HGQM2TN8n_y7"
      },
      "source": [
        "## Part 2: Automatic differentiation"
      ]
    },
    {
      "cell_type": "markdown",
      "metadata": {
        "id": "UojAjrPYn_y7"
      },
      "source": [
        "PyTorch implements reverse-mode automatic differentiation (AD)."
      ]
    },
    {
      "cell_type": "markdown",
      "metadata": {
        "id": "D7OQLTtzn_y7"
      },
      "source": [
        "With AD, obtaining a gradient of a scalar-valued function is straightforward. Let's use the regular Python language features to define a function."
      ]
    },
    {
      "cell_type": "code",
      "execution_count": 6,
      "metadata": {
        "id": "sfERpA04n_y7"
      },
      "outputs": [],
      "source": [
        "def f(x):\n",
        "    y = torch.log(x[0]) + torch.sin(x[1])\n",
        "    return x[2] * torch.exp(y)"
      ]
    },
    {
      "cell_type": "markdown",
      "metadata": {
        "id": "BD1L0tJpn_y7"
      },
      "source": [
        "Let's evaluate the gradient of `f(x)` at `x = [2,3,4]`."
      ]
    },
    {
      "cell_type": "code",
      "execution_count": 7,
      "metadata": {
        "id": "_FFVyxEzn_y7",
        "outputId": "9c294a65-5eae-4e22-d9b4-32466ae8ec02",
        "colab": {
          "base_uri": "https://localhost:8080/"
        }
      },
      "outputs": [
        {
          "output_type": "stream",
          "name": "stdout",
          "text": [
            "tensor(9.2125, grad_fn=<MulBackward0>)\n",
            "tensor([ 4.6063, -9.1203,  2.3031])\n"
          ]
        }
      ],
      "source": [
        "x = torch.tensor([2.,3,4], requires_grad=True)\n",
        "y = f(x)\n",
        "print(y)\n",
        "\n",
        "y.backward()# evaluates the gradient of y wrt to the graph leaves (x in this case)\n",
        "print(x.grad)# gradients are accumulated in the .grad attribute of the leaf tensors"
      ]
    },
    {
      "cell_type": "markdown",
      "metadata": {
        "id": "J25ktI7an_y7"
      },
      "source": [
        "Note that we get the function evaluated `f(2,3,4)` as `9.2125` and the gradient `f'(2,3,4)` as `[4.6063, -9.1203, 2.3031]`.\n",
        "\n",
        "Also note the use of `requires_grad = True` for tagging the tensor `x` for being differentiated with respect to. This is for efficiency reasons, allowing PyTorch to ignore the bookkeeping for tensors whose derivatives we don't need."
      ]
    },
    {
      "cell_type": "code",
      "execution_count": null,
      "metadata": {
        "id": "5IkksUYCn_y7"
      },
      "outputs": [],
      "source": [
        "y = f(x)\n",
        "y.backward()\n",
        "print(x.grad)# note, the grad attribute is not reset every time .backward is called,\n",
        "# so it can accumulate if you are not careful! (see more here: https://pytorch.org/docs/stable/autograd.html)"
      ]
    },
    {
      "cell_type": "markdown",
      "metadata": {
        "id": "JmwEU3UQn_y7"
      },
      "source": [
        "## Part 3: Neural networks"
      ]
    },
    {
      "cell_type": "markdown",
      "metadata": {
        "id": "RRu4zuZYn_y7"
      },
      "source": [
        "The previous two parts, namely defining and using tensors and being able to obtain derivatives, give us everything needed for constructing and training a neural network."
      ]
    },
    {
      "cell_type": "markdown",
      "metadata": {
        "id": "biTQnmrbn_y8"
      },
      "source": [
        "### Defining a neural network"
      ]
    },
    {
      "cell_type": "markdown",
      "metadata": {
        "id": "MzSgUA4jn_y8"
      },
      "source": [
        "A very important point to note is that **neural networks are just functions, and there is nothing special about them.**\n",
        "\n",
        "A neural network is a series of linear algebra operations interleaved with non-linear transformations. Let's create a single feed-forward layer with two neurons connected to four inputs (note that this omits the bias term for simplicity)."
      ]
    },
    {
      "cell_type": "code",
      "execution_count": 8,
      "metadata": {
        "id": "7cDEtWf9n_y8",
        "outputId": "80c79e8e-ffe3-4d17-8bd0-13af7f44cba5",
        "colab": {
          "base_uri": "https://localhost:8080/"
        }
      },
      "outputs": [
        {
          "output_type": "stream",
          "name": "stdout",
          "text": [
            "tensor([[1.0000],\n",
            "        [1.0000]], grad_fn=<TanhBackward0>)\n"
          ]
        }
      ],
      "source": [
        "def run_layer(weights, inputs):\n",
        "    outputs = torch.mm(weights, inputs)\n",
        "    outputs = torch.tanh(outputs)\n",
        "    return outputs\n",
        "\n",
        "W = torch.randn(2,4, requires_grad=True) # A 2x4 weight matrix\n",
        "x = torch.tensor([[1.],[2],[3],[4]]) # A column vector of length four\n",
        "\n",
        "y = run_layer(W, x)\n",
        "print(y)"
      ]
    },
    {
      "cell_type": "markdown",
      "metadata": {
        "id": "KjAbQYOXn_y8"
      },
      "source": [
        "### The loss function\n",
        "\n",
        "Training this neural network layer would simply mean taking the derivative of a loss function at its output with respect to its trainable weights (the matrix `W` above)."
      ]
    },
    {
      "cell_type": "code",
      "execution_count": 9,
      "metadata": {
        "id": "mEpa7Igjn_y8",
        "outputId": "93b1d747-d252-4909-fa38-8680fdf05bc5",
        "colab": {
          "base_uri": "https://localhost:8080/"
        }
      },
      "outputs": [
        {
          "output_type": "stream",
          "name": "stdout",
          "text": [
            "tensor(0.0131, grad_fn=<MeanBackward0>)\n",
            "tensor([[-4.8260e-02, -9.6519e-02, -1.4478e-01, -1.9304e-01],\n",
            "        [-4.6686e-05, -9.3373e-05, -1.4006e-04, -1.8675e-04]])\n"
          ]
        }
      ],
      "source": [
        "def loss(outputs, targets):\n",
        "    return torch.mean((outputs - targets)**2)\n",
        "\n",
        "W = torch.randn(2,4, requires_grad=True) # A 2x4 weight matrix\n",
        "x = torch.tensor([[1.],[2],[3],[4]]) # A column vector of length four\n",
        "\n",
        "loss = loss(run_layer(W, x), torch.tensor([1.,1]))\n",
        "print(loss)\n",
        "\n",
        "loss.backward()\n",
        "\n",
        "W_grad = W.grad\n",
        "print(W_grad)"
      ]
    },
    {
      "cell_type": "markdown",
      "metadata": {
        "id": "THWomcE5n_y8"
      },
      "source": [
        "### Optimization\n",
        "\n",
        "We would then iteratively update the weights in a gradient-based update rule."
      ]
    },
    {
      "cell_type": "code",
      "execution_count": 11,
      "metadata": {
        "id": "-hpK2_Bvn_y8",
        "outputId": "de70b9c3-dc26-49cd-f707-5627c058cd39",
        "colab": {
          "base_uri": "https://localhost:8080/"
        }
      },
      "outputs": [
        {
          "output_type": "stream",
          "name": "stdout",
          "text": [
            "tensor([[-1.2810, -1.7019, -0.0194,  1.4893],\n",
            "        [-0.0470, -0.2495,  0.8981,  0.2157]], grad_fn=<SubBackward0>)\n"
          ]
        }
      ],
      "source": [
        "learning_rate = 0.000001\n",
        "W = W - learning_rate * W_grad\n",
        "print(W)"
      ]
    },
    {
      "cell_type": "markdown",
      "metadata": {
        "id": "TvA85pahn_y8"
      },
      "source": [
        "By taking the gradient of a neural network with respect to its trainable parameters (weights), we can optimize it with gradient descent."
      ]
    },
    {
      "cell_type": "markdown",
      "metadata": {
        "id": "_-v10dtRn_y8"
      },
      "source": [
        "## Using torch.nn modules"
      ]
    },
    {
      "cell_type": "markdown",
      "metadata": {
        "id": "vte_Fxe1n_y8"
      },
      "source": [
        "In practice, unless you are implementing new neural network architectures, you would use the existing neural network building blocks provided by the `torch.nn` module, which internally work similar to the basic example we covered above.\n",
        "\n",
        "We will now define a convolutional neural network for image recognition on the MNIST dataset and train and test it, using the regular PyTorch workflow. The MNIST dataset is a collection of 60,000 images of handwritten digits labeled as belonging to one of the ten digit categories.\n",
        "\n",
        "First we load the MNIST dataset. We also apply preprocessing for normalizing data.\n",
        "\n",
        "We divide the data into training and test sets."
      ]
    },
    {
      "cell_type": "code",
      "execution_count": 12,
      "metadata": {
        "id": "sy4_Vbpxn_y8",
        "outputId": "823f4e3f-851a-4cfe-9378-04ae64be6f80",
        "colab": {
          "base_uri": "https://localhost:8080/"
        }
      },
      "outputs": [
        {
          "output_type": "stream",
          "name": "stdout",
          "text": [
            "Downloading http://yann.lecun.com/exdb/mnist/train-images-idx3-ubyte.gz\n",
            "Failed to download (trying next):\n",
            "HTTP Error 403: Forbidden\n",
            "\n",
            "Downloading https://ossci-datasets.s3.amazonaws.com/mnist/train-images-idx3-ubyte.gz\n",
            "Downloading https://ossci-datasets.s3.amazonaws.com/mnist/train-images-idx3-ubyte.gz to ./data/MNIST/raw/train-images-idx3-ubyte.gz\n"
          ]
        },
        {
          "output_type": "stream",
          "name": "stderr",
          "text": [
            "100%|██████████| 9.91M/9.91M [00:00<00:00, 50.5MB/s]\n"
          ]
        },
        {
          "output_type": "stream",
          "name": "stdout",
          "text": [
            "Extracting ./data/MNIST/raw/train-images-idx3-ubyte.gz to ./data/MNIST/raw\n",
            "\n",
            "Downloading http://yann.lecun.com/exdb/mnist/train-labels-idx1-ubyte.gz\n",
            "Failed to download (trying next):\n",
            "HTTP Error 403: Forbidden\n",
            "\n",
            "Downloading https://ossci-datasets.s3.amazonaws.com/mnist/train-labels-idx1-ubyte.gz\n",
            "Downloading https://ossci-datasets.s3.amazonaws.com/mnist/train-labels-idx1-ubyte.gz to ./data/MNIST/raw/train-labels-idx1-ubyte.gz\n"
          ]
        },
        {
          "output_type": "stream",
          "name": "stderr",
          "text": [
            "100%|██████████| 28.9k/28.9k [00:00<00:00, 1.92MB/s]"
          ]
        },
        {
          "output_type": "stream",
          "name": "stdout",
          "text": [
            "Extracting ./data/MNIST/raw/train-labels-idx1-ubyte.gz to ./data/MNIST/raw\n",
            "\n",
            "Downloading http://yann.lecun.com/exdb/mnist/t10k-images-idx3-ubyte.gz\n"
          ]
        },
        {
          "output_type": "stream",
          "name": "stderr",
          "text": [
            "\n"
          ]
        },
        {
          "output_type": "stream",
          "name": "stdout",
          "text": [
            "Failed to download (trying next):\n",
            "HTTP Error 403: Forbidden\n",
            "\n",
            "Downloading https://ossci-datasets.s3.amazonaws.com/mnist/t10k-images-idx3-ubyte.gz\n",
            "Downloading https://ossci-datasets.s3.amazonaws.com/mnist/t10k-images-idx3-ubyte.gz to ./data/MNIST/raw/t10k-images-idx3-ubyte.gz\n"
          ]
        },
        {
          "output_type": "stream",
          "name": "stderr",
          "text": [
            "100%|██████████| 1.65M/1.65M [00:00<00:00, 13.8MB/s]\n"
          ]
        },
        {
          "output_type": "stream",
          "name": "stdout",
          "text": [
            "Extracting ./data/MNIST/raw/t10k-images-idx3-ubyte.gz to ./data/MNIST/raw\n",
            "\n",
            "Downloading http://yann.lecun.com/exdb/mnist/t10k-labels-idx1-ubyte.gz\n",
            "Failed to download (trying next):\n",
            "HTTP Error 403: Forbidden\n",
            "\n",
            "Downloading https://ossci-datasets.s3.amazonaws.com/mnist/t10k-labels-idx1-ubyte.gz\n",
            "Downloading https://ossci-datasets.s3.amazonaws.com/mnist/t10k-labels-idx1-ubyte.gz to ./data/MNIST/raw/t10k-labels-idx1-ubyte.gz\n"
          ]
        },
        {
          "output_type": "stream",
          "name": "stderr",
          "text": [
            "100%|██████████| 4.54k/4.54k [00:00<00:00, 6.92MB/s]"
          ]
        },
        {
          "output_type": "stream",
          "name": "stdout",
          "text": [
            "Extracting ./data/MNIST/raw/t10k-labels-idx1-ubyte.gz to ./data/MNIST/raw\n",
            "\n"
          ]
        },
        {
          "output_type": "stream",
          "name": "stderr",
          "text": [
            "\n"
          ]
        }
      ],
      "source": [
        "from torchvision import datasets, transforms\n",
        "from torch.utils.data import DataLoader\n",
        "\n",
        "train_dataset = datasets.MNIST('./data', train=True, download=True,\n",
        "                   transform=transforms.Compose([\n",
        "                       transforms.ToTensor(),\n",
        "                       transforms.Normalize((0.1307,), (0.3081,))\n",
        "                   ]))\n",
        "\n",
        "test_dataset = datasets.MNIST('./data', train=False, download=True,\n",
        "                   transform=transforms.Compose([\n",
        "                       transforms.ToTensor(),\n",
        "                       transforms.Normalize((0.1307,), (0.3081,))\n",
        "                   ]))"
      ]
    },
    {
      "cell_type": "markdown",
      "metadata": {
        "id": "lDei5bFyn_y8"
      },
      "source": [
        "> **Task 1**: write some code to visualise some of the training examples and their labels.\n",
        "\n",
        "> **Question**: how many examples are there in the training and test datasets?"
      ]
    },
    {
      "cell_type": "code",
      "execution_count": 13,
      "metadata": {
        "id": "aTOGphkmn_y8",
        "outputId": "1819c750-f24c-4e3b-a17e-61ceb7427b4b",
        "colab": {
          "base_uri": "https://localhost:8080/",
          "height": 670
        }
      },
      "outputs": [
        {
          "output_type": "display_data",
          "data": {
            "text/plain": [
              "<Figure size 800x800 with 16 Axes>"
            ],
            "image/png": "[encoded data removed]"
          },
          "metadata": {}
        }
      ],
      "source": [
        "import matplotlib.pyplot as plt\n",
        "import numpy as np\n",
        "\n",
        "# TODO: write some code here\n",
        "\n",
        "train_loader = DataLoader(train_dataset, batch_size=16, shuffle=True)\n",
        "images, labels = next(iter(train_loader))\n",
        "fig, axes = plt.subplots(4, 4, figsize=(8, 8))\n",
        "fig.suptitle(\"MNIST Training Examples\", fontsize=16)\n",
        "for i, ax in enumerate(axes.flat):\n",
        "    ax.imshow(images[i].squeeze(), cmap=\"gray\")\n",
        "    ax.set_title(f\"Label: {labels[i].item()}\")\n",
        "    ax.axis(\"off\")\n",
        "\n",
        "plt.tight_layout()\n",
        "plt.show()\n",
        "\n"
      ]
    },
    {
      "cell_type": "markdown",
      "metadata": {
        "id": "FpAKB12xn_y8"
      },
      "source": [
        "Next we define our neural network composed of two convolutional layers followed by max-pooling layers and two fully-connected (linear) layers.\n",
        "\n",
        "Note that we only need to\n",
        "- create the layer modules (in the `__init__` constructor) and\n",
        "- define the function for the forward run of the network (in the `forward` method)"
      ]
    },
    {
      "cell_type": "code",
      "execution_count": 14,
      "metadata": {
        "id": "Vtt32l3Vn_y8"
      },
      "outputs": [],
      "source": [
        "import torch.nn as nn\n",
        "import torch.nn.functional as F\n",
        "\n",
        "class Net(nn.Module):\n",
        "    def __init__(self): # The definition of neural network layers\n",
        "        super(Net, self).__init__()\n",
        "        self.conv1 = nn.Conv2d(1, 10, kernel_size=5)\n",
        "        self.conv2 = nn.Conv2d(10, 20, kernel_size=5)\n",
        "        self.fc1 = nn.Linear(320, 50)\n",
        "        self.fc2 = nn.Linear(50, 10)\n",
        "\n",
        "    def forward(self, x): # The function for forward evaluation\n",
        "        x = F.relu(F.max_pool2d(self.conv1(x), 2))\n",
        "        x = F.relu(F.max_pool2d(self.conv2(x), 2))\n",
        "        x = x.view(-1, 320)\n",
        "        x = F.relu(self.fc1(x))\n",
        "        x = F.dropout(x, training=self.training)\n",
        "        x = self.fc2(x)\n",
        "        return x\n",
        "\n",
        "model = Net()"
      ]
    },
    {
      "cell_type": "markdown",
      "metadata": {
        "id": "hYnT12fKn_y8"
      },
      "source": [
        "> **Question**: What are the dimensions of the inputs and outputs of `model(x)`? What are the dimensions of its hidden layers?"
      ]
    },
    {
      "cell_type": "markdown",
      "metadata": {
        "id": "dV-9TqxZn_y9"
      },
      "source": [
        "Finally we train the network.\n",
        "We use the stochastic gradient descent (SGD) optimization routine provided by the `torch.optim` module. We use a learning rate of `0.0001` and a momentum of `0.9`."
      ]
    },
    {
      "cell_type": "code",
      "execution_count": 15,
      "metadata": {
        "id": "q1Y5ZgXDn_y9"
      },
      "outputs": [],
      "source": [
        "from torch import optim\n",
        "\n",
        "optimizer = optim.SGD(model.parameters(), lr=0.0001, momentum=0.9)\n",
        "\n",
        "train_loader = DataLoader(train_dataset, batch_size=64, shuffle=True)# this automatically batches up examples, adding a batch dimension\n",
        "test_loader = DataLoader(test_dataset, batch_size=64, shuffle=True)"
      ]
    },
    {
      "cell_type": "markdown",
      "metadata": {
        "id": "zv9NsDnln_y9"
      },
      "source": [
        "> **Task 2**: write two functions to train and test the network.\n",
        "\n",
        "Note: as this is a classification task, we want to pass the output tensor of the network through a softmax function to get class probability predictions, and then use cross entropy for the loss function. I.e., class probability predictions should be computed using `model(x).softmax(dim=1)`."
      ]
    },
    {
      "cell_type": "code",
      "execution_count": 16,
      "metadata": {
        "id": "buW2UHO9n_y9"
      },
      "outputs": [],
      "source": [
        "def train(epoch):\n",
        "    model.train()\n",
        "\n",
        "    # TODO: write some code here\n",
        "\n",
        "    # pseudocode:\n",
        "\n",
        "    # for each batch in train_loader\n",
        "        # carry out a forward pass of the network\n",
        "        # compute the loss function (use cross-entropy)\n",
        "        # compute the gradient wrt to the network weights\n",
        "        # carry out an optimisation step (hint: you can use optimizer.step())\n",
        "        # after every 100 batches, print out the current epoch number, batch number and loss value\n",
        "\n",
        "    for batch_idx, (data, target) in enumerate(train_loader):\n",
        "        optimizer.zero_grad()\n",
        "        output = model(data)\n",
        "        loss = F.cross_entropy(output, target)\n",
        "        loss.backward()\n",
        "        optimizer.step()\n",
        "        if batch_idx % 100 == 0:\n",
        "            print('Train Epoch: {} [{}/{} ({:.0f}%)]\\tLoss: {:.6f}'.format(\n",
        "                epoch, batch_idx * len(data), len(train_loader.dataset),\n",
        "                100. * batch_idx / len(train_loader), loss.item()))\n",
        "\n",
        "\n",
        "def test():\n",
        "    model.eval()\n",
        "\n",
        "    # TODO: write some code here\n",
        "\n",
        "    # pseudocode:\n",
        "\n",
        "    # print out the test loss value averaged over the whole test dataset\n",
        "    # assuming the class with the highest predicted probability as the predicted label,\n",
        "    # print the fraction of correctly predicted labels (accuracy) over the whole test dataset\n",
        "\n",
        "    test_loss = 0\n",
        "    correct = 0\n",
        "    for data, target in test_loader:\n",
        "        output = model(data)\n",
        "        test_loss += F.cross_entropy(output, target, reduction='sum').item()\n",
        "        pred = output.max(dim=1)[1] # get the index of the max probability\n",
        "        correct += pred.eq(target).cpu().sum()\n",
        "\n",
        "    test_loss /= len(test_loader.dataset)\n",
        "    print('\\nTest set: Average loss: {:.4f}, Accuracy: {}/{} ({:.0f}%)\\n'.format(\n",
        "        test_loss, correct, len(test_loader.dataset),\n",
        "        100. * correct / len(test_loader.dataset)))\n",
        "\n",
        ""
      ]
    },
    {
      "cell_type": "markdown",
      "metadata": {
        "id": "3yog8H6gn_y9"
      },
      "source": [
        "We train the neural network for four epochs.\n",
        "\n",
        "As training progresses, you will see that the classification accuracy in the test set will keep rising. At the end of four epochs, we will have an accuracy of around 85% in the test set."
      ]
    },
    {
      "cell_type": "code",
      "execution_count": 17,
      "metadata": {
        "scrolled": false,
        "id": "tbLa-JsSn_y9",
        "outputId": "0b19f0be-e15f-43e3-bbf5-6391d6178e6e",
        "colab": {
          "base_uri": "https://localhost:8080/"
        }
      },
      "outputs": [
        {
          "output_type": "stream",
          "name": "stdout",
          "text": [
            "Train Epoch: 1 [0/60000 (0%)]\tLoss: 2.310066\n",
            "Train Epoch: 1 [6400/60000 (11%)]\tLoss: 2.297553\n",
            "Train Epoch: 1 [12800/60000 (21%)]\tLoss: 2.298211\n",
            "Train Epoch: 1 [19200/60000 (32%)]\tLoss: 2.263234\n",
            "Train Epoch: 1 [25600/60000 (43%)]\tLoss: 2.270390\n",
            "Train Epoch: 1 [32000/60000 (53%)]\tLoss: 2.243617\n",
            "Train Epoch: 1 [38400/60000 (64%)]\tLoss: 2.215076\n",
            "Train Epoch: 1 [44800/60000 (75%)]\tLoss: 2.179460\n",
            "Train Epoch: 1 [51200/60000 (85%)]\tLoss: 2.137601\n",
            "Train Epoch: 1 [57600/60000 (96%)]\tLoss: 2.172859\n",
            "\n",
            "Test set: Average loss: 2.1325, Accuracy: 4943/10000 (49%)\n",
            "\n",
            "Train Epoch: 2 [0/60000 (0%)]\tLoss: 2.154539\n",
            "Train Epoch: 2 [6400/60000 (11%)]\tLoss: 2.099653\n",
            "Train Epoch: 2 [12800/60000 (21%)]\tLoss: 2.070276\n",
            "Train Epoch: 2 [19200/60000 (32%)]\tLoss: 2.037740\n",
            "Train Epoch: 2 [25600/60000 (43%)]\tLoss: 1.925987\n",
            "Train Epoch: 2 [32000/60000 (53%)]\tLoss: 1.962896\n",
            "Train Epoch: 2 [38400/60000 (64%)]\tLoss: 1.745508\n",
            "Train Epoch: 2 [44800/60000 (75%)]\tLoss: 1.603774\n",
            "Train Epoch: 2 [51200/60000 (85%)]\tLoss: 1.761733\n",
            "Train Epoch: 2 [57600/60000 (96%)]\tLoss: 1.630027\n",
            "\n",
            "Test set: Average loss: 1.3576, Accuracy: 7073/10000 (71%)\n",
            "\n",
            "Train Epoch: 3 [0/60000 (0%)]\tLoss: 1.533941\n",
            "Train Epoch: 3 [6400/60000 (11%)]\tLoss: 1.489159\n",
            "Train Epoch: 3 [12800/60000 (21%)]\tLoss: 1.223496\n",
            "Train Epoch: 3 [19200/60000 (32%)]\tLoss: 1.210681\n",
            "Train Epoch: 3 [25600/60000 (43%)]\tLoss: 1.155261\n",
            "Train Epoch: 3 [32000/60000 (53%)]\tLoss: 1.110999\n",
            "Train Epoch: 3 [38400/60000 (64%)]\tLoss: 1.109918\n",
            "Train Epoch: 3 [44800/60000 (75%)]\tLoss: 0.841363\n",
            "Train Epoch: 3 [51200/60000 (85%)]\tLoss: 0.969408\n",
            "Train Epoch: 3 [57600/60000 (96%)]\tLoss: 0.927305\n",
            "\n",
            "Test set: Average loss: 0.6538, Accuracy: 8628/10000 (86%)\n",
            "\n",
            "Train Epoch: 4 [0/60000 (0%)]\tLoss: 1.109411\n",
            "Train Epoch: 4 [6400/60000 (11%)]\tLoss: 0.963308\n",
            "Train Epoch: 4 [12800/60000 (21%)]\tLoss: 0.765209\n",
            "Train Epoch: 4 [19200/60000 (32%)]\tLoss: 0.807856\n",
            "Train Epoch: 4 [25600/60000 (43%)]\tLoss: 0.751023\n",
            "Train Epoch: 4 [32000/60000 (53%)]\tLoss: 0.822334\n",
            "Train Epoch: 4 [38400/60000 (64%)]\tLoss: 0.832694\n",
            "Train Epoch: 4 [44800/60000 (75%)]\tLoss: 0.768530\n",
            "Train Epoch: 4 [51200/60000 (85%)]\tLoss: 0.607321\n",
            "Train Epoch: 4 [57600/60000 (96%)]\tLoss: 0.688298\n",
            "\n",
            "Test set: Average loss: 0.4653, Accuracy: 8820/10000 (88%)\n",
            "\n"
          ]
        }
      ],
      "source": [
        "for epoch in range(1, 5):\n",
        "    train(epoch)\n",
        "    test()"
      ]
    },
    {
      "cell_type": "markdown",
      "metadata": {
        "id": "GbgKnYPkn_y9"
      },
      "source": [
        "Let's test some images from the test set. You can evaluate the same cell many times to visualize results for more test images."
      ]
    },
    {
      "cell_type": "markdown",
      "metadata": {
        "id": "fVQAgNgGn_y9"
      },
      "source": [
        "> **Task 3**: write some code to visualise the predicted class probabilites for some of the test images."
      ]
    },
    {
      "cell_type": "code",
      "execution_count": 18,
      "metadata": {
        "id": "vlSOhmhjn_y9",
        "outputId": "98f96659-dd8b-4a63-8175-373999e5a8fd",
        "colab": {
          "base_uri": "https://localhost:8080/",
          "height": 843
        }
      },
      "outputs": [
        {
          "output_type": "display_data",
          "data": {
            "text/plain": [
              "<Figure size 640x480 with 1 Axes>"
            ],
            "image/png": "[encoded data removed]"
          },
          "metadata": {}
        },
        {
          "output_type": "display_data",
          "data": {
            "text/plain": [
              "<Figure size 640x480 with 1 Axes>"
            ],
            "image/png": "[encoded data removed]"
          },
          "metadata": {}
        }
      ],
      "source": [
        "# TODO: write some code here\n",
        "\n",
        "import itertools\n",
        "index = 12\n",
        "a = list(itertools.islice(test_loader, index))\n",
        "test_image = a[0][0][0]\n",
        "test_label = a[0][1][0]\n",
        "\n",
        "test_output = model(test_image.unsqueeze(0)).softmax(dim=1).detach()\n",
        "\n",
        "plt.imshow(test_image[0].numpy())\n",
        "plt.show()\n",
        "\n",
        "fig, ax = plt.subplots()\n",
        "ax.bar(range(10), test_output[0])\n",
        "ax.set_xticks(np.arange(10))\n",
        "plt.show()\n",
        "\n",
        "\n"
      ]
    },
    {
      "cell_type": "markdown",
      "metadata": {
        "id": "PuG177Zan_y9"
      },
      "source": [
        "## Extensions\n",
        "\n",
        "> **Extension 1**: change the network design by adding dropout layers after the convolutional layers. How does this affect performance?\n",
        "\n",
        "> **Extension 2**: Use the Adam optimiser instead of SGD, how does this affect performance?\n",
        "\n",
        "> **Extension 3**: How high can the learning rate go before training becomes unstable?"
      ]
    },
    {
      "cell_type": "code",
      "execution_count": null,
      "metadata": {
        "id": "JOANvO1Pn_y9"
      },
      "outputs": [],
      "source": []
    }
  ],
  "metadata": {
    "kernelspec": {
      "display_name": "Python 3",
      "language": "python",
      "name": "python3"
    },
    "language_info": {
      "codemirror_mode": {
        "name": "ipython",
        "version": 3
      },
      "file_extension": ".py",
      "mimetype": "text/x-python",
      "name": "python",
      "nbconvert_exporter": "python",
      "pygments_lexer": "ipython3",
      "version": "3.8.5"
    },
    "colab": {
      "provenance": []
    }
  },
  "nbformat": 4,
  "nbformat_minor": 0
}